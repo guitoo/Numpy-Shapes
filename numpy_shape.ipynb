{
 "cells": [
  {
   "cell_type": "markdown",
   "metadata": {},
   "source": [
    "# Numpy Shapes"
   ]
  },
  {
   "cell_type": "code",
   "execution_count": 340,
   "metadata": {
    "hide_input": true
   },
   "outputs": [],
   "source": [
    "### This notebook uses the \"Hide input\" nbextension. ###"
   ]
  },
  {
   "cell_type": "code",
   "execution_count": 341,
   "metadata": {
    "hide_input": true
   },
   "outputs": [],
   "source": [
    "import numpy as np\n",
    "from pandas import DataFrame, Series\n",
    "from termcolor import colored\n",
    "from matplotlib import pyplot as plt"
   ]
  },
  {
   "cell_type": "code",
   "execution_count": 342,
   "metadata": {
    "hide_input": true,
    "scrolled": true
   },
   "outputs": [
    {
     "data": {
      "text/html": [
       "\n",
       "<style>\n",
       ".output {\n",
       "    display: flex;\n",
       "    align-items: center;\n",
       "    text-align: center;\n",
       "}\n",
       "\n",
       ".output_text pre {\n",
       "  white-space: pre;\n",
       "  font-size: 20px;\n",
       "  text-align: center;\n",
       "  line-height: 150%;\n",
       "}\n",
       "</style>\n"
      ],
      "text/plain": [
       "<IPython.core.display.HTML object>"
      ]
     },
     "metadata": {},
     "output_type": "display_data"
    }
   ],
   "source": [
    "from IPython.display import display, HTML\n",
    "display(HTML(\"\"\"\n",
    "<style>\n",
    ".output {\n",
    "    display: flex;\n",
    "    align-items: center;\n",
    "    text-align: center;\n",
    "}\n",
    "\n",
    ".output_text pre {\n",
    "  white-space: pre;\n",
    "  font-size: 20px;\n",
    "  text-align: center;\n",
    "  line-height: 150%;\n",
    "}\n",
    "</style>\n",
    "\"\"\"))"
   ]
  },
  {
   "cell_type": "code",
   "execution_count": 343,
   "metadata": {
    "hide_input": true
   },
   "outputs": [],
   "source": [
    "colors = ['red',\"green\",\"blue\",\"magenta\"]\n",
    "\n",
    "def colored_index(indices):\n",
    "    string = []\n",
    "    #string.append('(')\n",
    "    for i, size in enumerate(indices):\n",
    "        string.append(colored(size, colors[i]))\n",
    "    return ', '.join(string)\n",
    " \n",
    "\n",
    "def colored_shape(shape):\n",
    "    indices_str = colored_index(shape)\n",
    "    if len(shape) == 1:\n",
    "        indices_str = indices_str + ','\n",
    "    return '(' + indices_str + ')'\n",
    "\n",
    "def colored_sub(indices):\n",
    "    indices_str = colored_index(indices)\n",
    "    return '[' + indices_str + ']'\n",
    "\n",
    "def colored_table_rec(table, index):\n",
    "    if not isinstance(table, np.ndarray):\n",
    "        return str(table)\n",
    "\n",
    "    strings = []\n",
    "    for sub in table:\n",
    "        strings.append(colored_table_rec(sub,index+1))\n",
    "    string = colored(',', colors[index]).join(strings)\n",
    "    return colored('[', colors[index]) \\\n",
    "           + string \\\n",
    "           + colored(']', colors[index])\n",
    "\n",
    "def colored_table(table):\n",
    "    return colored_table_rec(table, 0)\n",
    "\n",
    "\n",
    "def display_table(table, shape, exemples=[], ext_exemples=[]):\n",
    "\n",
    "    table = table.reshape(shape)\n",
    "    print(colored_shape(table.shape))\n",
    "    print(colored_table(table))\n",
    "\n",
    "    if len(ext_exemples) >= 1:\n",
    "         print('\\n')\n",
    "    \n",
    "    for exemple in ext_exemples:\n",
    "        value = table\n",
    "        for i,index in enumerate(exemple):\n",
    "            value = value[index]\n",
    "            print('table{} = {}'.format(colored_sub(exemple[:i+1]),\n",
    "                                        colored_table_rec(value,i+1)))\n",
    "    if len(exemples) >= 1:\n",
    "        print('\\n')\n",
    "    \n",
    "    for exemple in exemples:\n",
    "        value = table\n",
    "        for index in exemple:\n",
    "            value = value[index]\n",
    "        print('table{} = {}'.format(colored_sub(exemple),\n",
    "                                    value))\n",
    "\n",
    "def display_image(img):\n",
    "    plt.imshow(img*255)\n",
    "    plt.show()\n",
    "\n",
    "def display_images(imgs):\n",
    "    nb_images = imgs.shape[0]\n",
    "    for i,img in enumerate(imgs):\n",
    "        plt.subplot(1, nb_images, i+1)\n",
    "        plt.imshow(img*255)\n",
    "    plt.show()  \n",
    "    \n"
   ]
  },
  {
   "cell_type": "markdown",
   "metadata": {},
   "source": [
    "## Shapes and reshape"
   ]
  },
  {
   "cell_type": "code",
   "execution_count": 344,
   "metadata": {},
   "outputs": [],
   "source": [
    "table = np.array([x+1 for x in range(8)])"
   ]
  },
  {
   "cell_type": "markdown",
   "metadata": {},
   "source": [
    "### 1D shape"
   ]
  },
  {
   "cell_type": "code",
   "execution_count": 345,
   "metadata": {},
   "outputs": [
    {
     "name": "stdout",
     "output_type": "stream",
     "text": [
      "(\u001b[31m8\u001b[0m,)\n",
      "\u001b[31m[\u001b[0m1\u001b[31m,\u001b[0m2\u001b[31m,\u001b[0m3\u001b[31m,\u001b[0m4\u001b[31m,\u001b[0m5\u001b[31m,\u001b[0m6\u001b[31m,\u001b[0m7\u001b[31m,\u001b[0m8\u001b[31m]\u001b[0m\n",
      "\n",
      "\n",
      "table[\u001b[31m0\u001b[0m] = 1\n",
      "table[\u001b[31m6\u001b[0m] = 7\n"
     ]
    }
   ],
   "source": [
    "display_table(table, (-1,), [[0],[6]])"
   ]
  },
  {
   "cell_type": "markdown",
   "metadata": {},
   "source": [
    "### 2D shape"
   ]
  },
  {
   "cell_type": "code",
   "execution_count": 346,
   "metadata": {},
   "outputs": [
    {
     "name": "stdout",
     "output_type": "stream",
     "text": [
      "(\u001b[31m2\u001b[0m, \u001b[32m4\u001b[0m)\n",
      "\u001b[31m[\u001b[0m\u001b[32m[\u001b[0m1\u001b[32m,\u001b[0m2\u001b[32m,\u001b[0m3\u001b[32m,\u001b[0m4\u001b[32m]\u001b[0m\u001b[31m,\u001b[0m\u001b[32m[\u001b[0m5\u001b[32m,\u001b[0m6\u001b[32m,\u001b[0m7\u001b[32m,\u001b[0m8\u001b[32m]\u001b[0m\u001b[31m]\u001b[0m\n",
      "\n",
      "\n",
      "table[\u001b[31m0\u001b[0m] = \u001b[32m[\u001b[0m1\u001b[32m,\u001b[0m2\u001b[32m,\u001b[0m3\u001b[32m,\u001b[0m4\u001b[32m]\u001b[0m\n",
      "table[\u001b[31m1\u001b[0m] = \u001b[32m[\u001b[0m5\u001b[32m,\u001b[0m6\u001b[32m,\u001b[0m7\u001b[32m,\u001b[0m8\u001b[32m]\u001b[0m\n",
      "\n",
      "\n",
      "table[\u001b[31m0\u001b[0m, \u001b[32m3\u001b[0m] = 4\n",
      "table[\u001b[31m1\u001b[0m, \u001b[32m2\u001b[0m] = 7\n"
     ]
    }
   ],
   "source": [
    "display_table(table, (2,4), [[0,3],[1,2]], [[0],[1]])"
   ]
  },
  {
   "cell_type": "markdown",
   "metadata": {},
   "source": [
    "### 3D shape"
   ]
  },
  {
   "cell_type": "code",
   "execution_count": 347,
   "metadata": {},
   "outputs": [
    {
     "name": "stdout",
     "output_type": "stream",
     "text": [
      "(\u001b[31m2\u001b[0m, \u001b[32m2\u001b[0m, \u001b[34m2\u001b[0m)\n",
      "\u001b[31m[\u001b[0m\u001b[32m[\u001b[0m\u001b[34m[\u001b[0m1\u001b[34m,\u001b[0m2\u001b[34m]\u001b[0m\u001b[32m,\u001b[0m\u001b[34m[\u001b[0m3\u001b[34m,\u001b[0m4\u001b[34m]\u001b[0m\u001b[32m]\u001b[0m\u001b[31m,\u001b[0m\u001b[32m[\u001b[0m\u001b[34m[\u001b[0m5\u001b[34m,\u001b[0m6\u001b[34m]\u001b[0m\u001b[32m,\u001b[0m\u001b[34m[\u001b[0m7\u001b[34m,\u001b[0m8\u001b[34m]\u001b[0m\u001b[32m]\u001b[0m\u001b[31m]\u001b[0m\n",
      "\n",
      "\n",
      "table[\u001b[31m0\u001b[0m] = \u001b[32m[\u001b[0m\u001b[34m[\u001b[0m1\u001b[34m,\u001b[0m2\u001b[34m]\u001b[0m\u001b[32m,\u001b[0m\u001b[34m[\u001b[0m3\u001b[34m,\u001b[0m4\u001b[34m]\u001b[0m\u001b[32m]\u001b[0m\n",
      "table[\u001b[31m1\u001b[0m] = \u001b[32m[\u001b[0m\u001b[34m[\u001b[0m5\u001b[34m,\u001b[0m6\u001b[34m]\u001b[0m\u001b[32m,\u001b[0m\u001b[34m[\u001b[0m7\u001b[34m,\u001b[0m8\u001b[34m]\u001b[0m\u001b[32m]\u001b[0m\n",
      "table[\u001b[31m1\u001b[0m, \u001b[32m1\u001b[0m] = \u001b[34m[\u001b[0m7\u001b[34m,\u001b[0m8\u001b[34m]\u001b[0m\n",
      "table[\u001b[31m1\u001b[0m, \u001b[32m1\u001b[0m, \u001b[34m1\u001b[0m] = 8\n",
      "\n",
      "\n",
      "table[\u001b[31m0\u001b[0m, \u001b[32m1\u001b[0m, \u001b[34m0\u001b[0m] = 3\n",
      "table[\u001b[31m1\u001b[0m, \u001b[32m0\u001b[0m, \u001b[34m1\u001b[0m] = 6\n"
     ]
    }
   ],
   "source": [
    "display_table(table, (2,2,2), [[0,1,0],[1,0,1]], [[0],[1,1,1]])"
   ]
  },
  {
   "cell_type": "markdown",
   "metadata": {},
   "source": [
    "### 4D shape"
   ]
  },
  {
   "cell_type": "code",
   "execution_count": 348,
   "metadata": {},
   "outputs": [
    {
     "name": "stdout",
     "output_type": "stream",
     "text": [
      "(\u001b[31m2\u001b[0m, \u001b[32m2\u001b[0m, \u001b[34m2\u001b[0m, \u001b[35m1\u001b[0m)\n",
      "\u001b[31m[\u001b[0m\u001b[32m[\u001b[0m\u001b[34m[\u001b[0m\u001b[35m[\u001b[0m1\u001b[35m]\u001b[0m\u001b[34m,\u001b[0m\u001b[35m[\u001b[0m2\u001b[35m]\u001b[0m\u001b[34m]\u001b[0m\u001b[32m,\u001b[0m\u001b[34m[\u001b[0m\u001b[35m[\u001b[0m3\u001b[35m]\u001b[0m\u001b[34m,\u001b[0m\u001b[35m[\u001b[0m4\u001b[35m]\u001b[0m\u001b[34m]\u001b[0m\u001b[32m]\u001b[0m\u001b[31m,\u001b[0m\u001b[32m[\u001b[0m\u001b[34m[\u001b[0m\u001b[35m[\u001b[0m5\u001b[35m]\u001b[0m\u001b[34m,\u001b[0m\u001b[35m[\u001b[0m6\u001b[35m]\u001b[0m\u001b[34m]\u001b[0m\u001b[32m,\u001b[0m\u001b[34m[\u001b[0m\u001b[35m[\u001b[0m7\u001b[35m]\u001b[0m\u001b[34m,\u001b[0m\u001b[35m[\u001b[0m8\u001b[35m]\u001b[0m\u001b[34m]\u001b[0m\u001b[32m]\u001b[0m\u001b[31m]\u001b[0m\n",
      "\n",
      "\n",
      "table[\u001b[31m0\u001b[0m] = \u001b[32m[\u001b[0m\u001b[34m[\u001b[0m\u001b[35m[\u001b[0m1\u001b[35m]\u001b[0m\u001b[34m,\u001b[0m\u001b[35m[\u001b[0m2\u001b[35m]\u001b[0m\u001b[34m]\u001b[0m\u001b[32m,\u001b[0m\u001b[34m[\u001b[0m\u001b[35m[\u001b[0m3\u001b[35m]\u001b[0m\u001b[34m,\u001b[0m\u001b[35m[\u001b[0m4\u001b[35m]\u001b[0m\u001b[34m]\u001b[0m\u001b[32m]\u001b[0m\n",
      "table[\u001b[31m0\u001b[0m, \u001b[32m0\u001b[0m] = \u001b[34m[\u001b[0m\u001b[35m[\u001b[0m1\u001b[35m]\u001b[0m\u001b[34m,\u001b[0m\u001b[35m[\u001b[0m2\u001b[35m]\u001b[0m\u001b[34m]\u001b[0m\n",
      "table[\u001b[31m0\u001b[0m, \u001b[32m0\u001b[0m, \u001b[34m1\u001b[0m] = \u001b[35m[\u001b[0m2\u001b[35m]\u001b[0m\n",
      "table[\u001b[31m0\u001b[0m, \u001b[32m0\u001b[0m, \u001b[34m1\u001b[0m, \u001b[35m0\u001b[0m] = 2\n"
     ]
    }
   ],
   "source": [
    "display_table(table, (2,2,2,1), [], [[0,0,1,0]])"
   ]
  },
  {
   "cell_type": "markdown",
   "metadata": {},
   "source": [
    "## Images"
   ]
  },
  {
   "cell_type": "markdown",
   "metadata": {},
   "source": [
    "### A single square image"
   ]
  },
  {
   "cell_type": "code",
   "execution_count": 349,
   "metadata": {},
   "outputs": [
    {
     "name": "stdout",
     "output_type": "stream",
     "text": [
      "(\u001b[31m9\u001b[0m,)\n",
      "\u001b[31m[\u001b[0m0\u001b[31m,\u001b[0m1\u001b[31m,\u001b[0m0\u001b[31m,\u001b[0m1\u001b[31m,\u001b[0m1\u001b[31m,\u001b[0m1\u001b[31m,\u001b[0m0\u001b[31m,\u001b[0m1\u001b[31m,\u001b[0m0\u001b[31m]\u001b[0m\n"
     ]
    }
   ],
   "source": [
    "image = np.array([0,1,0,1,1,1,0,1,0])\n",
    "display_table(image, image.shape)"
   ]
  },
  {
   "cell_type": "markdown",
   "metadata": {},
   "source": [
    " 9 lines, 1 column "
   ]
  },
  {
   "cell_type": "code",
   "execution_count": 350,
   "metadata": {},
   "outputs": [
    {
     "name": "stdout",
     "output_type": "stream",
     "text": [
      "(\u001b[31m9\u001b[0m, \u001b[32m1\u001b[0m)\n",
      "\u001b[31m[\u001b[0m\u001b[32m[\u001b[0m0\u001b[32m]\u001b[0m\u001b[31m,\u001b[0m\u001b[32m[\u001b[0m1\u001b[32m]\u001b[0m\u001b[31m,\u001b[0m\u001b[32m[\u001b[0m0\u001b[32m]\u001b[0m\u001b[31m,\u001b[0m\u001b[32m[\u001b[0m1\u001b[32m]\u001b[0m\u001b[31m,\u001b[0m\u001b[32m[\u001b[0m1\u001b[32m]\u001b[0m\u001b[31m,\u001b[0m\u001b[32m[\u001b[0m1\u001b[32m]\u001b[0m\u001b[31m,\u001b[0m\u001b[32m[\u001b[0m0\u001b[32m]\u001b[0m\u001b[31m,\u001b[0m\u001b[32m[\u001b[0m1\u001b[32m]\u001b[0m\u001b[31m,\u001b[0m\u001b[32m[\u001b[0m0\u001b[32m]\u001b[0m\u001b[31m]\u001b[0m\n"
     ]
    },
    {
     "data": {
      "image/png": "[encoded data removed]",
      "text/plain": [
       "<Figure size 432x288 with 1 Axes>"
      ]
     },
     "metadata": {
      "needs_background": "light"
     },
     "output_type": "display_data"
    }
   ],
   "source": [
    "shape = (-1,1)\n",
    "display_table(image, shape)\n",
    "display_image(image.reshape(shape))"
   ]
  },
  {
   "cell_type": "markdown",
   "metadata": {},
   "source": [
    "1 lines, 9 columns"
   ]
  },
  {
   "cell_type": "code",
   "execution_count": 351,
   "metadata": {},
   "outputs": [
    {
     "name": "stdout",
     "output_type": "stream",
     "text": [
      "(\u001b[31m1\u001b[0m, \u001b[32m9\u001b[0m)\n",
      "\u001b[31m[\u001b[0m\u001b[32m[\u001b[0m0\u001b[32m,\u001b[0m1\u001b[32m,\u001b[0m0\u001b[32m,\u001b[0m1\u001b[32m,\u001b[0m1\u001b[32m,\u001b[0m1\u001b[32m,\u001b[0m0\u001b[32m,\u001b[0m1\u001b[32m,\u001b[0m0\u001b[32m]\u001b[0m\u001b[31m]\u001b[0m\n"
     ]
    },
    {
     "data": {
      "image/png": "[encoded data removed]",
      "text/plain": [
       "<Figure size 432x288 with 1 Axes>"
      ]
     },
     "metadata": {
      "needs_background": "light"
     },
     "output_type": "display_data"
    }
   ],
   "source": [
    "shape = (1,-1)\n",
    "display_table(image, shape)\n",
    "display_image(image.reshape(shape))"
   ]
  },
  {
   "cell_type": "markdown",
   "metadata": {},
   "source": [
    "3 lines, 3 columns"
   ]
  },
  {
   "cell_type": "code",
   "execution_count": 352,
   "metadata": {},
   "outputs": [
    {
     "name": "stdout",
     "output_type": "stream",
     "text": [
      "(\u001b[31m3\u001b[0m, \u001b[32m3\u001b[0m)\n",
      "\u001b[31m[\u001b[0m\u001b[32m[\u001b[0m0\u001b[32m,\u001b[0m1\u001b[32m,\u001b[0m0\u001b[32m]\u001b[0m\u001b[31m,\u001b[0m\u001b[32m[\u001b[0m1\u001b[32m,\u001b[0m1\u001b[32m,\u001b[0m1\u001b[32m]\u001b[0m\u001b[31m,\u001b[0m\u001b[32m[\u001b[0m0\u001b[32m,\u001b[0m1\u001b[32m,\u001b[0m0\u001b[32m]\u001b[0m\u001b[31m]\u001b[0m\n"
     ]
    },
    {
     "data": {
      "image/png": "[encoded data removed]",
      "text/plain": [
       "<Figure size 432x288 with 1 Axes>"
      ]
     },
     "metadata": {
      "needs_background": "light"
     },
     "output_type": "display_data"
    }
   ],
   "source": [
    "shape = (3,3)\n",
    "display_table(image, shape)\n",
    "display_image(image.reshape(shape))"
   ]
  },
  {
   "cell_type": "markdown",
   "metadata": {},
   "source": [
    "A list containg a single image."
   ]
  },
  {
   "cell_type": "code",
   "execution_count": 364,
   "metadata": {},
   "outputs": [
    {
     "name": "stdout",
     "output_type": "stream",
     "text": [
      "(\u001b[31m1\u001b[0m, \u001b[32m3\u001b[0m, \u001b[34m3\u001b[0m)\n",
      "\u001b[31m[\u001b[0m\u001b[32m[\u001b[0m\u001b[34m[\u001b[0m0\u001b[34m,\u001b[0m1\u001b[34m,\u001b[0m0\u001b[34m]\u001b[0m\u001b[32m,\u001b[0m\u001b[34m[\u001b[0m1\u001b[34m,\u001b[0m1\u001b[34m,\u001b[0m1\u001b[34m]\u001b[0m\u001b[32m,\u001b[0m\u001b[34m[\u001b[0m0\u001b[34m,\u001b[0m1\u001b[34m,\u001b[0m0\u001b[34m]\u001b[0m\u001b[32m]\u001b[0m\u001b[31m]\u001b[0m\n"
     ]
    }
   ],
   "source": [
    "shape = (1,3,3)\n",
    "display_table(image, shape)"
   ]
  },
  {
   "cell_type": "markdown",
   "metadata": {},
   "source": [
    "An image with 1 channel."
   ]
  },
  {
   "cell_type": "code",
   "execution_count": 365,
   "metadata": {},
   "outputs": [
    {
     "name": "stdout",
     "output_type": "stream",
     "text": [
      "(\u001b[31m3\u001b[0m, \u001b[32m3\u001b[0m, \u001b[34m1\u001b[0m)\n",
      "\u001b[31m[\u001b[0m\u001b[32m[\u001b[0m\u001b[34m[\u001b[0m0\u001b[34m]\u001b[0m\u001b[32m,\u001b[0m\u001b[34m[\u001b[0m1\u001b[34m]\u001b[0m\u001b[32m,\u001b[0m\u001b[34m[\u001b[0m0\u001b[34m]\u001b[0m\u001b[32m]\u001b[0m\u001b[31m,\u001b[0m\u001b[32m[\u001b[0m\u001b[34m[\u001b[0m1\u001b[34m]\u001b[0m\u001b[32m,\u001b[0m\u001b[34m[\u001b[0m1\u001b[34m]\u001b[0m\u001b[32m,\u001b[0m\u001b[34m[\u001b[0m1\u001b[34m]\u001b[0m\u001b[32m]\u001b[0m\u001b[31m,\u001b[0m\u001b[32m[\u001b[0m\u001b[34m[\u001b[0m0\u001b[34m]\u001b[0m\u001b[32m,\u001b[0m\u001b[34m[\u001b[0m1\u001b[34m]\u001b[0m\u001b[32m,\u001b[0m\u001b[34m[\u001b[0m0\u001b[34m]\u001b[0m\u001b[32m]\u001b[0m\u001b[31m]\u001b[0m\n"
     ]
    }
   ],
   "source": [
    "shape = (3,3,1)\n",
    "display_table(image, shape)"
   ]
  },
  {
   "cell_type": "markdown",
   "metadata": {},
   "source": [
    "### 2 square images"
   ]
  },
  {
   "cell_type": "code",
   "execution_count": 353,
   "metadata": {},
   "outputs": [
    {
     "name": "stdout",
     "output_type": "stream",
     "text": [
      "(\u001b[31m18\u001b[0m,)\n",
      "\u001b[31m[\u001b[0m0\u001b[31m,\u001b[0m1\u001b[31m,\u001b[0m0\u001b[31m,\u001b[0m1\u001b[31m,\u001b[0m1\u001b[31m,\u001b[0m1\u001b[31m,\u001b[0m0\u001b[31m,\u001b[0m1\u001b[31m,\u001b[0m0\u001b[31m,\u001b[0m1\u001b[31m,\u001b[0m0\u001b[31m,\u001b[0m1\u001b[31m,\u001b[0m0\u001b[31m,\u001b[0m0\u001b[31m,\u001b[0m0\u001b[31m,\u001b[0m1\u001b[31m,\u001b[0m0\u001b[31m,\u001b[0m1\u001b[31m]\u001b[0m\n"
     ]
    }
   ],
   "source": [
    "images = np.array([0,1,0,1,1,1,0,1,0,1,0,1,0,0,0,1,0,1])\n",
    "display_table(images, images.shape)"
   ]
  },
  {
   "cell_type": "code",
   "execution_count": 354,
   "metadata": {},
   "outputs": [
    {
     "name": "stdout",
     "output_type": "stream",
     "text": [
      "(\u001b[31m2\u001b[0m, \u001b[32m3\u001b[0m, \u001b[34m3\u001b[0m)\n",
      "\u001b[31m[\u001b[0m\u001b[32m[\u001b[0m\u001b[34m[\u001b[0m0\u001b[34m,\u001b[0m1\u001b[34m,\u001b[0m0\u001b[34m]\u001b[0m\u001b[32m,\u001b[0m\u001b[34m[\u001b[0m1\u001b[34m,\u001b[0m1\u001b[34m,\u001b[0m1\u001b[34m]\u001b[0m\u001b[32m,\u001b[0m\u001b[34m[\u001b[0m0\u001b[34m,\u001b[0m1\u001b[34m,\u001b[0m0\u001b[34m]\u001b[0m\u001b[32m]\u001b[0m\u001b[31m,\u001b[0m\u001b[32m[\u001b[0m\u001b[34m[\u001b[0m1\u001b[34m,\u001b[0m0\u001b[34m,\u001b[0m1\u001b[34m]\u001b[0m\u001b[32m,\u001b[0m\u001b[34m[\u001b[0m0\u001b[34m,\u001b[0m0\u001b[34m,\u001b[0m0\u001b[34m]\u001b[0m\u001b[32m,\u001b[0m\u001b[34m[\u001b[0m1\u001b[34m,\u001b[0m0\u001b[34m,\u001b[0m1\u001b[34m]\u001b[0m\u001b[32m]\u001b[0m\u001b[31m]\u001b[0m\n"
     ]
    },
    {
     "data": {
      "image/png": "[encoded data removed]",
      "text/plain": [
       "<Figure size 432x288 with 2 Axes>"
      ]
     },
     "metadata": {
      "needs_background": "light"
     },
     "output_type": "display_data"
    }
   ],
   "source": [
    "shape = (2,3,3)\n",
    "display_table(images, shape)\n",
    "display_images(images.reshape(shape))"
   ]
  },
  {
   "cell_type": "markdown",
   "metadata": {},
   "source": [
    "### 1 channel images\n",
    "An image with 1 channel is not the same as an image with no channel at all."
   ]
  },
  {
   "cell_type": "markdown",
   "metadata": {},
   "source": [
    "- Matplotlib does not support images with only 1 channel. There is no dimension for intensity."
   ]
  },
  {
   "cell_type": "code",
   "execution_count": 355,
   "metadata": {},
   "outputs": [
    {
     "name": "stdout",
     "output_type": "stream",
     "text": [
      "(\u001b[31m3\u001b[0m, \u001b[32m3\u001b[0m)\n",
      "\u001b[31m[\u001b[0m\u001b[32m[\u001b[0m0\u001b[32m,\u001b[0m1\u001b[32m,\u001b[0m0\u001b[32m]\u001b[0m\u001b[31m,\u001b[0m\u001b[32m[\u001b[0m1\u001b[32m,\u001b[0m0\u001b[32m,\u001b[0m1\u001b[32m]\u001b[0m\u001b[31m,\u001b[0m\u001b[32m[\u001b[0m0\u001b[32m,\u001b[0m1\u001b[32m,\u001b[0m0\u001b[32m]\u001b[0m\u001b[31m]\u001b[0m\n"
     ]
    },
    {
     "data": {
      "image/png": "[encoded data removed]",
      "text/plain": [
       "<Figure size 432x288 with 1 Axes>"
      ]
     },
     "metadata": {
      "needs_background": "light"
     },
     "output_type": "display_data"
    }
   ],
   "source": [
    "image1c = np.array([[0,1,0],[1,0,1],[0,1,0]])\n",
    "display_table(image1c, image1c.shape)\n",
    "display_image(image1c)"
   ]
  },
  {
   "cell_type": "markdown",
   "metadata": {},
   "source": [
    "- Keras requires an extra dimension of size 1 for greyscale images."
   ]
  },
  {
   "cell_type": "code",
   "execution_count": 356,
   "metadata": {},
   "outputs": [
    {
     "name": "stdout",
     "output_type": "stream",
     "text": [
      "(\u001b[31m3\u001b[0m, \u001b[32m3\u001b[0m, \u001b[34m1\u001b[0m)\n",
      "\u001b[31m[\u001b[0m\u001b[32m[\u001b[0m\u001b[34m[\u001b[0m0\u001b[34m]\u001b[0m\u001b[32m,\u001b[0m\u001b[34m[\u001b[0m1\u001b[34m]\u001b[0m\u001b[32m,\u001b[0m\u001b[34m[\u001b[0m0\u001b[34m]\u001b[0m\u001b[32m]\u001b[0m\u001b[31m,\u001b[0m\u001b[32m[\u001b[0m\u001b[34m[\u001b[0m1\u001b[34m]\u001b[0m\u001b[32m,\u001b[0m\u001b[34m[\u001b[0m0\u001b[34m]\u001b[0m\u001b[32m,\u001b[0m\u001b[34m[\u001b[0m1\u001b[34m]\u001b[0m\u001b[32m]\u001b[0m\u001b[31m,\u001b[0m\u001b[32m[\u001b[0m\u001b[34m[\u001b[0m0\u001b[34m]\u001b[0m\u001b[32m,\u001b[0m\u001b[34m[\u001b[0m1\u001b[34m]\u001b[0m\u001b[32m,\u001b[0m\u001b[34m[\u001b[0m0\u001b[34m]\u001b[0m\u001b[32m]\u001b[0m\u001b[31m]\u001b[0m\n"
     ]
    }
   ],
   "source": [
    "shape=(3,3,1)\n",
    "display_table(image1c, shape)"
   ]
  },
  {
   "cell_type": "markdown",
   "metadata": {},
   "source": [
    "### 1 image with 3 channels"
   ]
  },
  {
   "cell_type": "code",
   "execution_count": 357,
   "metadata": {
    "scrolled": true
   },
   "outputs": [
    {
     "name": "stdout",
     "output_type": "stream",
     "text": [
      "(\u001b[31m12\u001b[0m,)\n",
      "\u001b[31m[\u001b[0m0\u001b[31m,\u001b[0m0\u001b[31m,\u001b[0m0\u001b[31m,\u001b[0m1\u001b[31m,\u001b[0m1\u001b[31m,\u001b[0m0\u001b[31m,\u001b[0m1\u001b[31m,\u001b[0m1\u001b[31m,\u001b[0m0\u001b[31m,\u001b[0m0\u001b[31m,\u001b[0m0\u001b[31m,\u001b[0m0\u001b[31m]\u001b[0m\n"
     ]
    }
   ],
   "source": [
    "image3 = np.array([0]*3+[1,1,0]*2+[0]*3)\n",
    "display_table(image3, image3.shape)"
   ]
  },
  {
   "cell_type": "code",
   "execution_count": 358,
   "metadata": {
    "scrolled": true
   },
   "outputs": [
    {
     "name": "stdout",
     "output_type": "stream",
     "text": [
      "(\u001b[31m2\u001b[0m, \u001b[32m2\u001b[0m, \u001b[34m3\u001b[0m)\n",
      "\u001b[31m[\u001b[0m\u001b[32m[\u001b[0m\u001b[34m[\u001b[0m0\u001b[34m,\u001b[0m0\u001b[34m,\u001b[0m0\u001b[34m]\u001b[0m\u001b[32m,\u001b[0m\u001b[34m[\u001b[0m1\u001b[34m,\u001b[0m1\u001b[34m,\u001b[0m0\u001b[34m]\u001b[0m\u001b[32m]\u001b[0m\u001b[31m,\u001b[0m\u001b[32m[\u001b[0m\u001b[34m[\u001b[0m1\u001b[34m,\u001b[0m1\u001b[34m,\u001b[0m0\u001b[34m]\u001b[0m\u001b[32m,\u001b[0m\u001b[34m[\u001b[0m0\u001b[34m,\u001b[0m0\u001b[34m,\u001b[0m0\u001b[34m]\u001b[0m\u001b[32m]\u001b[0m\u001b[31m]\u001b[0m\n"
     ]
    },
    {
     "data": {
      "image/png": "[encoded data removed]",
      "text/plain": [
       "<Figure size 432x288 with 1 Axes>"
      ]
     },
     "metadata": {
      "needs_background": "light"
     },
     "output_type": "display_data"
    }
   ],
   "source": [
    "shape = (2,2,3)\n",
    "display_table(image3, shape)\n",
    "display_image(image3.reshape(shape))"
   ]
  },
  {
   "cell_type": "markdown",
   "metadata": {},
   "source": [
    "## Exercices"
   ]
  },
  {
   "cell_type": "markdown",
   "metadata": {},
   "source": [
    "### 3D table"
   ]
  },
  {
   "cell_type": "code",
   "execution_count": 359,
   "metadata": {},
   "outputs": [
    {
     "name": "stdout",
     "output_type": "stream",
     "text": [
      "(\u001b[31m18\u001b[0m,)\n",
      "\u001b[31m[\u001b[0m0\u001b[31m,\u001b[0m0\u001b[31m,\u001b[0m0\u001b[31m,\u001b[0m0\u001b[31m,\u001b[0m0\u001b[31m,\u001b[0m0\u001b[31m,\u001b[0m0\u001b[31m,\u001b[0m0\u001b[31m,\u001b[0m0\u001b[31m,\u001b[0m0\u001b[31m,\u001b[0m1\u001b[31m,\u001b[0m0\u001b[31m,\u001b[0m0\u001b[31m,\u001b[0m0\u001b[31m,\u001b[0m0\u001b[31m,\u001b[0m0\u001b[31m,\u001b[0m0\u001b[31m,\u001b[0m0\u001b[31m]\u001b[0m\n"
     ]
    }
   ],
   "source": [
    "exercice_table = np.array([0]*10 + [1] + [0]*7)\n",
    "display_table(exercice_table, exercice_table.shape)"
   ]
  },
  {
   "cell_type": "markdown",
   "metadata": {},
   "source": [
    "Modify the shape below.\n",
    "- The table has a depth of 3.\n",
    "- The table has a width of 2.\n",
    "\n",
    "If you get it right table[1,1,1] should be 1."
   ]
  },
  {
   "cell_type": "code",
   "execution_count": null,
   "metadata": {},
   "outputs": [],
   "source": [
    "shape = (18,)\n",
    "\n",
    "display_table(exercice_table, shape, [[1,1,1]])"
   ]
  },
  {
   "cell_type": "markdown",
   "metadata": {},
   "source": [
    "### 2 square images with 3 channels"
   ]
  },
  {
   "cell_type": "code",
   "execution_count": 361,
   "metadata": {},
   "outputs": [
    {
     "name": "stdout",
     "output_type": "stream",
     "text": [
      "(\u001b[31m24\u001b[0m,)\n",
      "\u001b[31m[\u001b[0m0\u001b[31m,\u001b[0m0\u001b[31m,\u001b[0m0\u001b[31m,\u001b[0m1\u001b[31m,\u001b[0m1\u001b[31m,\u001b[0m1\u001b[31m,\u001b[0m1\u001b[31m,\u001b[0m1\u001b[31m,\u001b[0m1\u001b[31m,\u001b[0m0\u001b[31m,\u001b[0m0\u001b[31m,\u001b[0m0\u001b[31m,\u001b[0m1\u001b[31m,\u001b[0m1\u001b[31m,\u001b[0m1\u001b[31m,\u001b[0m0\u001b[31m,\u001b[0m0\u001b[31m,\u001b[0m0\u001b[31m,\u001b[0m0\u001b[31m,\u001b[0m0\u001b[31m,\u001b[0m0\u001b[31m,\u001b[0m1\u001b[31m,\u001b[0m1\u001b[31m,\u001b[0m1\u001b[31m]\u001b[0m\n"
     ]
    }
   ],
   "source": [
    "exercice_images = np.array([0]*3+[1]*6+[0]*3 + [1]*3+[0]*6+[1]*3)\n",
    "display_table(exercice1, exercice_images.shape)"
   ]
  },
  {
   "cell_type": "markdown",
   "metadata": {},
   "source": [
    "Modify the shape below in order to get 2 checkerboard images.\n",
    "- The images have 3 channels.\n",
    "- There is 2 images.\n",
    "- The images are square. What size should they be?"
   ]
  },
  {
   "cell_type": "code",
   "execution_count": null,
   "metadata": {},
   "outputs": [],
   "source": [
    "shape = (24,)\n",
    "\n",
    "display_table(exercice_images, shape)\n",
    "display_images(exercice_images.reshape(shape))"
   ]
  },
  {
   "cell_type": "code",
   "execution_count": null,
   "metadata": {},
   "outputs": [],
   "source": []
  }
 ],
 "metadata": {
  "kernelspec": {
   "display_name": "Python 3",
   "language": "python",
   "name": "python3"
  },
  "language_info": {
   "codemirror_mode": {
    "name": "ipython",
    "version": 3
   },
   "file_extension": ".py",
   "mimetype": "text/x-python",
   "name": "python",
   "nbconvert_exporter": "python",
   "pygments_lexer": "ipython3",
   "version": "3.7.5"
  },
  "toc": {
   "base_numbering": "1",
   "nav_menu": {},
   "number_sections": true,
   "sideBar": true,
   "skip_h1_title": true,
   "title_cell": "Numpy Shapes",
   "title_sidebar": "Contents",
   "toc_cell": false,
   "toc_position": {},
   "toc_section_display": true,
   "toc_window_display": true
  }
 },
 "nbformat": 4,
 "nbformat_minor": 2
}
